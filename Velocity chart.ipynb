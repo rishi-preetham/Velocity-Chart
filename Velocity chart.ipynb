{
 "cells": [
  {
   "cell_type": "code",
   "execution_count": 45,
   "metadata": {},
   "outputs": [],
   "source": [
    "import matplotlib.pyplot as plt\n",
    "import pandas as pd\n",
    "import numpy as np"
   ]
  },
  {
   "cell_type": "code",
   "execution_count": 46,
   "metadata": {},
   "outputs": [],
   "source": [
    "Assigned = [34,34,34,42]\n",
    "Completed = [21,13,34,31]"
   ]
  },
  {
   "cell_type": "code",
   "execution_count": 47,
   "metadata": {},
   "outputs": [],
   "source": [
    "def velocitychart():\n",
    "    total=0\n",
    "    for ele in range(0, len(Completed)):\n",
    "        total = total + Completed[ele]\n",
    "    v=total/len(Completed)\n",
    "    v\n",
    "    Assigned.append(v)\n",
    "    Assigned\n",
    "    if len(Assigned)!=len(Completed):\n",
    "        Completed.append(0)\n",
    "    Completed\n",
    "    df=pd.DataFrame(Assigned,columns=[\"Assigned\"])\n",
    "    df\n",
    "    df1=pd.DataFrame(Completed,columns=[\"Completed\"])\n",
    "    df1\n",
    "    fig1 = plt.figure()\n",
    "    bx = fig1.add_axes([0,0,1,1])\n",
    "    plt.title(\"Velocity Chart\")\n",
    "    plt.ylabel(\"Story Points\")\n",
    "    X=np.arange(len(Assigned))\n",
    "    bx.bar(X + 0.00, df.Assigned,color = 'grey',width=0.2,label=\"Assigned\")\n",
    "    bx.bar(X + 0.20, df1.Completed,color = 'g',width=0.2,label=\"Completed\")\n",
    "    plt.legend()\n",
    "    print(\"Developer Juan has been assigned \", v,\"Story Points\")"
   ]
  },
  {
   "cell_type": "code",
   "execution_count": 48,
   "metadata": {},
   "outputs": [
    {
     "name": "stdout",
     "output_type": "stream",
     "text": [
      "Developer Juan has been assigned  24.75 Story Points\n"
     ]
    },
    {
     "data": {
      "image/png": "[encoded data removed]",
      "text/plain": [
       "<Figure size 432x288 with 1 Axes>"
      ]
     },
     "metadata": {
      "needs_background": "light"
     },
     "output_type": "display_data"
    }
   ],
   "source": [
    "velocitychart()"
   ]
  },
  {
   "cell_type": "code",
   "execution_count": 49,
   "metadata": {},
   "outputs": [
    {
     "name": "stdout",
     "output_type": "stream",
     "text": [
      "Enter the Story Points Completed by Juan in Sprint 4\n",
      "25\n"
     ]
    },
    {
     "data": {
      "text/plain": [
       "[21, 13, 34, 31, 25]"
      ]
     },
     "execution_count": 49,
     "metadata": {},
     "output_type": "execute_result"
    }
   ],
   "source": [
    "print(\"Enter the Story Points Completed by Juan in Sprint\",len(Completed)-1)\n",
    "f=int(input())\n",
    "Completed[len(Completed)-1]=f\n",
    "Completed"
   ]
  }
 ],
 "metadata": {
  "kernelspec": {
   "display_name": "Python 3",
   "language": "python",
   "name": "python3"
  },
  "language_info": {
   "codemirror_mode": {
    "name": "ipython",
    "version": 3
   },
   "file_extension": ".py",
   "mimetype": "text/x-python",
   "name": "python",
   "nbconvert_exporter": "python",
   "pygments_lexer": "ipython3",
   "version": "3.7.4"
  }
 },
 "nbformat": 4,
 "nbformat_minor": 2
}
