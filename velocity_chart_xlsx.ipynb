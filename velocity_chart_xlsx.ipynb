{
 "cells": [
  {
   "cell_type": "code",
   "execution_count": 67,
   "metadata": {},
   "outputs": [],
   "source": [
    "import matplotlib.pyplot as plt\n",
    "import pandas as pd\n",
    "import numpy as np\n",
    "import xlsxwriter"
   ]
  },
  {
   "cell_type": "code",
   "execution_count": 68,
   "metadata": {},
   "outputs": [],
   "source": [
    "dev = \"\"\n",
    "assigned = [34,34,34,42]\n",
    "completed = [21,13,34,31]\n",
    "A={\"assigned\":assigned,\"completed\":completed}\n",
    "df=pd.DataFrame(A)"
   ]
  },
  {
   "cell_type": "code",
   "execution_count": 69,
   "metadata": {},
   "outputs": [
    {
     "data": {
      "text/html": [
       "<div>\n",
       "<style scoped>\n",
       "    .dataframe tbody tr th:only-of-type {\n",
       "        vertical-align: middle;\n",
       "    }\n",
       "\n",
       "    .dataframe tbody tr th {\n",
       "        vertical-align: top;\n",
       "    }\n",
       "\n",
       "    .dataframe thead th {\n",
       "        text-align: right;\n",
       "    }\n",
       "</style>\n",
       "<table border=\"1\" class=\"dataframe\">\n",
       "  <thead>\n",
       "    <tr style=\"text-align: right;\">\n",
       "      <th></th>\n",
       "      <th>assigned</th>\n",
       "      <th>completed</th>\n",
       "    </tr>\n",
       "  </thead>\n",
       "  <tbody>\n",
       "    <tr>\n",
       "      <td>0</td>\n",
       "      <td>34</td>\n",
       "      <td>21</td>\n",
       "    </tr>\n",
       "    <tr>\n",
       "      <td>1</td>\n",
       "      <td>34</td>\n",
       "      <td>13</td>\n",
       "    </tr>\n",
       "    <tr>\n",
       "      <td>2</td>\n",
       "      <td>34</td>\n",
       "      <td>34</td>\n",
       "    </tr>\n",
       "    <tr>\n",
       "      <td>3</td>\n",
       "      <td>42</td>\n",
       "      <td>31</td>\n",
       "    </tr>\n",
       "  </tbody>\n",
       "</table>\n",
       "</div>"
      ],
      "text/plain": [
       "   assigned  completed\n",
       "0        34         21\n",
       "1        34         13\n",
       "2        34         34\n",
       "3        42         31"
      ]
     },
     "execution_count": 69,
     "metadata": {},
     "output_type": "execute_result"
    }
   ],
   "source": [
    "# Create a Pandas Excel writer using XlsxWriter as the engine.\n",
    "writer = pd.ExcelWriter('pandas_chart.xlsx', engine='xlsxwriter')\n",
    "df"
   ]
  },
  {
   "cell_type": "code",
   "execution_count": 70,
   "metadata": {},
   "outputs": [],
   "source": [
    "def velocitychart():\n",
    "    total_completed = sum(completed)\n",
    "    total_sprints = len(completed)\n",
    "    average=total_completed/total_sprints\n",
    "    assigned.append(average)\n",
    "    if len(assigned) > len(completed):\n",
    "        completed.append(0)\n",
    "    df=pd.DataFrame(assigned, columns=[\"assigned\"])\n",
    "    df1=pd.DataFrame(completed, columns=[\"completed\"])\n",
    "    fig1 = plt.figure()\n",
    "    bx = fig1.add_axes([0,0,1,1])\n",
    "    plt.title(\"Velocity Chart\")\n",
    "    plt.ylabel(\"Story Points\")\n",
    "    plt.xlabel(\"Sprint\")\n",
    "    x=np.arange(len(completed))\n",
    "    bx.bar(x + 1.0, df.assigned, color='grey', width=0.2, label=\"Assigned\")\n",
    "    bx.bar(x + 1.2, df1.completed, color='green', width=0.2, label=\"Completed\")\n",
    "    plt.xticks(np.arange(1, total_sprints+2 , 1))\n",
    "    plt.legend()"
   ]
  },
  {
   "cell_type": "code",
   "execution_count": 71,
   "metadata": {},
   "outputs": [
    {
     "data": {
      "image/png": "[encoded data removed]",
      "text/plain": [
       "<Figure size 432x288 with 1 Axes>"
      ]
     },
     "metadata": {
      "needs_background": "light"
     },
     "output_type": "display_data"
    }
   ],
   "source": [
    "velocitychart()"
   ]
  },
  {
   "cell_type": "code",
   "execution_count": 72,
   "metadata": {},
   "outputs": [
    {
     "name": "stdout",
     "output_type": "stream",
     "text": [
      "Enter the Story Points Completed by Juan in Sprint 5\n",
      "25\n"
     ]
    }
   ],
   "source": [
    "print(\"Enter the Story Points Completed by Juan in Sprint\",len(assigned))\n",
    "last_completed=int(input())\n",
    "completed[len(completed)-1]=last_completed\n"
   ]
  }
 ],
 "metadata": {
  "kernelspec": {
   "display_name": "Python 3",
   "language": "python",
   "name": "python3"
  },
  "language_info": {
   "codemirror_mode": {
    "name": "ipython",
    "version": 3
   },
   "file_extension": ".py",
   "mimetype": "text/x-python",
   "name": "python",
   "nbconvert_exporter": "python",
   "pygments_lexer": "ipython3",
   "version": "3.7.4"
  }
 },
 "nbformat": 4,
 "nbformat_minor": 2
}
